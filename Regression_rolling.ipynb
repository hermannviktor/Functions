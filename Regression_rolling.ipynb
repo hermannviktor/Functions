{
 "cells": [
  {
   "cell_type": "code",
   "execution_count": null,
   "metadata": {},
   "outputs": [],
   "source": [
    "def roll_regr(x_data,y_data,roll):\n",
    "    regression = pd.DataFrame()\n",
    "    a = pd.DataFrame()\n",
    "    count = 0\n",
    "    for row in range(0, len(x_data.index)-roll, 1):\n",
    "        x, y = np.polyfit(np.array(x_data[row: row + roll]),np.array(y_data[row: row + roll]),1)\n",
    "        a.loc[row,'beta'] = x\n",
    "    return a"
   ]
  }
 ],
 "metadata": {
  "kernelspec": {
   "display_name": "Python 3",
   "language": "python",
   "name": "python3"
  },
  "language_info": {
   "codemirror_mode": {
    "name": "ipython",
    "version": 3
   },
   "file_extension": ".py",
   "mimetype": "text/x-python",
   "name": "python",
   "nbconvert_exporter": "python",
   "pygments_lexer": "ipython3",
   "version": "3.7.0"
  }
 },
 "nbformat": 4,
 "nbformat_minor": 2
}
