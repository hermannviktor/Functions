{
 "cells": [
  {
   "cell_type": "code",
   "execution_count": null,
   "metadata": {},
   "outputs": [],
   "source": [
    "def call_BS(S0, K, T, rf, sigma, delta=False):\n",
    "    d1 = (np.log(S0 / K) + (rf + 0.5 * sigma ** 2) * T) / (sigma * np.sqrt(T))\n",
    "    d2 = (np.log(S0 / K) + (rf - 0.5 * sigma ** 2) * T) / (sigma * np.sqrt(T))\n",
    "    call_price = (S0 * si.norm.cdf(d1, 0.0, 1.0) - K * np.exp(-rf * T) * si.norm.cdf(d2, 0.0, 1.0))\n",
    "    if delta == True:\n",
    "        Delta = si.norm.cdf(d1, 0.0, 1.0)\n",
    "        return call_price, Delta\n",
    "    return call_price"
   ]
  }
 ],
 "metadata": {
  "kernelspec": {
   "display_name": "Python 3",
   "language": "python",
   "name": "python3"
  },
  "language_info": {
   "codemirror_mode": {
    "name": "ipython",
    "version": 3
   },
   "file_extension": ".py",
   "mimetype": "text/x-python",
   "name": "python",
   "nbconvert_exporter": "python",
   "pygments_lexer": "ipython3",
   "version": "3.7.0"
  }
 },
 "nbformat": 4,
 "nbformat_minor": 2
}
