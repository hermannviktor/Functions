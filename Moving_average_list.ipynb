{
 "cells": [
  {
   "cell_type": "code",
   "execution_count": 1,
   "metadata": {},
   "outputs": [],
   "source": [
    "def moving_average(data,n):\n",
    "    # n is the number of elements on which you want to compute the moving average\n",
    "    res = []\n",
    "    first = sum(data[0:0+n])\n",
    "    a = first / n\n",
    "    res = [a]\n",
    "    for i in range(0, len(data)-n):\n",
    "        if i == 0:\n",
    "            new = (a * n - data[i] + data[i+n]) / n\n",
    "            res.append(new)\n",
    "        else:\n",
    "            new = (new * n - data[i] + data[i+n]) / n\n",
    "            res.append(new)\n",
    "    return res"
   ]
  },
  {
   "cell_type": "code",
   "execution_count": null,
   "metadata": {},
   "outputs": [],
   "source": []
  }
 ],
 "metadata": {
  "kernelspec": {
   "display_name": "Python 3",
   "language": "python",
   "name": "python3"
  },
  "language_info": {
   "codemirror_mode": {
    "name": "ipython",
    "version": 3
   },
   "file_extension": ".py",
   "mimetype": "text/x-python",
   "name": "python",
   "nbconvert_exporter": "python",
   "pygments_lexer": "ipython3",
   "version": "3.7.0"
  }
 },
 "nbformat": 4,
 "nbformat_minor": 2
}
