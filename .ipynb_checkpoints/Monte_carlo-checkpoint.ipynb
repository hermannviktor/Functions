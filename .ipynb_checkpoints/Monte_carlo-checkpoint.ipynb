{
 "cells": [
  {
   "cell_type": "code",
   "execution_count": null,
   "metadata": {},
   "outputs": [],
   "source": [
    "def monte_carlo(S0,K,T,rf,m, s,Np):\n",
    "    dt=T/40\n",
    "    Mc=[]\n",
    "    Mp=[]\n",
    "    Mtc=0\n",
    "    Mtp=0\n",
    "    for i in range(Np):\n",
    "        S=St(S0,T,m, s,40)\n",
    "        if S0>K:\n",
    "            Mtc=S0\n",
    "            Mtp=0\n",
    "        elif S0<K:\n",
    "            Mtc=0\n",
    "            Mtp=-S0\n",
    "        for i in range(1,len(S)):\n",
    "            Mtc=Mtc*np.exp(rf*dt)\n",
    "            Mtp=Mtp*np.exp(rf*dt)\n",
    "            if S[i]>K and S[i-1]<K:\n",
    "                Mtc+=S[i]\n",
    "                Mtp+=S[i]\n",
    "            elif S[i]<K and S[i-1]>K:\n",
    "                Mtc-=S[i]\n",
    "                Mtp-=S[i]\n",
    "        if (S[-1]>K):\n",
    "            Mtc-=K\n",
    "        elif (S[-1]<K):\n",
    "            Mtp+=K\n",
    "        Mc.append(Mtc)\n",
    "        Mp.append(Mtp)\n",
    "    Mc = pd.DataFrame(Mc)\n",
    "    Mp = pd.DataFrame(Mp)\n",
    "    call=np.exp(-rf*T)*Mc.mean()\n",
    "    put=np.exp(-rf*T)*Mp.mean()\n",
    "    results =[]\n",
    "    dic={}\n",
    "    dic['type'] = 'call'\n",
    "    dic['price'] = call.values[0]\n",
    "    results.append(dic)\n",
    "    dic={}\n",
    "    dic['type'] = 'put'\n",
    "    dic['price'] = put.values[0]\n",
    "    results.append(dic)\n",
    "    results=pd.DataFrame(results)\n",
    "    return results"
   ]
  }
 ],
 "metadata": {
  "kernelspec": {
   "display_name": "Python 3",
   "language": "python",
   "name": "python3"
  },
  "language_info": {
   "codemirror_mode": {
    "name": "ipython",
    "version": 3
   },
   "file_extension": ".py",
   "mimetype": "text/x-python",
   "name": "python",
   "nbconvert_exporter": "python",
   "pygments_lexer": "ipython3",
   "version": "3.7.0"
  }
 },
 "nbformat": 4,
 "nbformat_minor": 2
}
