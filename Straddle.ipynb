{
 "cells": [
  {
   "cell_type": "code",
   "execution_count": 1,
   "metadata": {},
   "outputs": [],
   "source": [
    "def straddle(S0=100, K=102, T=0.25, r=0.10, s=0.30, Nt=252, Np=10000):\n",
    "    dt = T/Nt;\n",
    "#     r, s = r*(dt), s*np.sqrt(dt);\n",
    "    w =np.full((Nt,Np), 1.);\n",
    "    w = np.exp((r-s**2/2)*dt+ s*np.random.normal(0,1, size=(Nt,Np))*np.sqrt(dt));\n",
    "    w=pd.DataFrame(w);\n",
    "    w=w.cumprod();\n",
    "    w=w*S0\n",
    "    se = np.exp(-r*T)*(np.where(w.tail(1)>K, w.tail(1)-K, K-w.tail(1))).std()/np.sqrt(Np)    \n",
    "    straddle = (np.where(w.tail(1)>K, w.tail(1)-K, K-w.tail(1))).mean(axis=1)*np.exp(-r*T)\n",
    "    return straddle[0].round(4),se.round(4)"
   ]
  },
  {
   "cell_type": "code",
   "execution_count": 4,
   "metadata": {},
   "outputs": [
    {
     "data": {
      "text/plain": [
       "(11.8954, 0.092)"
      ]
     },
     "execution_count": 4,
     "metadata": {},
     "output_type": "execute_result"
    }
   ],
   "source": [
    "import numpy as np\n",
    "import pandas as pd\n",
    "straddle()"
   ]
  },
  {
   "cell_type": "code",
   "execution_count": 5,
   "metadata": {},
   "outputs": [],
   "source": [
    "import sys"
   ]
  },
  {
   "cell_type": "code",
   "execution_count": 6,
   "metadata": {},
   "outputs": [
    {
     "data": {
      "text/plain": [
       "['',\n",
       " '/Users/hermannviktor/Python/PycharmProjects/Functions',\n",
       " '/Users/hermannviktor/anaconda3/lib/python37.zip',\n",
       " '/Users/hermannviktor/anaconda3/lib/python3.7',\n",
       " '/Users/hermannviktor/anaconda3/lib/python3.7/lib-dynload',\n",
       " '/Users/hermannviktor/anaconda3/lib/python3.7/site-packages',\n",
       " '/Users/hermannviktor/anaconda3/lib/python3.7/site-packages/aeosa',\n",
       " '/Users/hermannviktor/anaconda3/lib/python3.7/site-packages/IPython/extensions',\n",
       " '/Users/hermannviktor/.ipython']"
      ]
     },
     "execution_count": 6,
     "metadata": {},
     "output_type": "execute_result"
    }
   ],
   "source": [
    "sys.path"
   ]
  },
  {
   "cell_type": "code",
   "execution_count": null,
   "metadata": {},
   "outputs": [],
   "source": []
  }
 ],
 "metadata": {
  "kernelspec": {
   "display_name": "Python [default]",
   "language": "python",
   "name": "python3"
  },
  "language_info": {
   "codemirror_mode": {
    "name": "ipython",
    "version": 3
   },
   "file_extension": ".py",
   "mimetype": "text/x-python",
   "name": "python",
   "nbconvert_exporter": "python",
   "pygments_lexer": "ipython3",
   "version": "3.7.0"
  }
 },
 "nbformat": 4,
 "nbformat_minor": 2
}
