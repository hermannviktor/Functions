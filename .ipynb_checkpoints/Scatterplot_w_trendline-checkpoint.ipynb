{
 "cells": [
  {
   "cell_type": "code",
   "execution_count": null,
   "metadata": {},
   "outputs": [],
   "source": [
    "def scatterplotting(x_df, y_df, xlabel, ylabel):\n",
    "    idx = np.isfinite(x_df) & np.isfinite(y_df)\n",
    "    a,b = np.polyfit(x_df[idx],y_df[idx],1)\n",
    "    c = min(x_df[idx])\n",
    "    d = max(x_df[idx])\n",
    "    x = np.array([c, d])\n",
    "    y = a * x + b\n",
    "    textstr = 'y = {var}*x + {coef}'.format(var=a.round(3),coef=b.round(5))\n",
    "    _ = plt.scatter(x_df[idx],y_df[idx], color='lightgreen')\n",
    "    _ = plt.xlabel(xlabel)\n",
    "    _ = plt.ylabel(ylabel)\n",
    "    _ = plt.plot(x,y,color='red', linewidth=2)\n",
    "    _ = plt.title(textstr)\n",
    "    plt.show()"
   ]
  }
 ],
 "metadata": {
  "kernelspec": {
   "display_name": "Python [conda env:MIT]",
   "language": "python",
   "name": "conda-env-MIT-py"
  },
  "language_info": {
   "codemirror_mode": {
    "name": "ipython",
    "version": 3
   },
   "file_extension": ".py",
   "mimetype": "text/x-python",
   "name": "python",
   "nbconvert_exporter": "python",
   "pygments_lexer": "ipython3",
   "version": "3.6.7"
  }
 },
 "nbformat": 4,
 "nbformat_minor": 2
}
