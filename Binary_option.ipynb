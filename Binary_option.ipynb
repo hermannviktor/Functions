{
 "cells": [
  {
   "cell_type": "code",
   "execution_count": null,
   "metadata": {},
   "outputs": [],
   "source": [
    "def binary_price(S0=100, K=102, T=0.25, r=0.10, s=0.30, Nt=252, Np=10000, call=True):\n",
    "    dt = T/Nt;\n",
    "#     r, s = r*(dt), s*np.sqrt(dt);\n",
    "    w =np.full((Nt,Np), 1.);\n",
    "    w = np.exp((r-s**2/2)*dt+ s*np.random.normal(0,1, size=(Nt,Np))*np.sqrt(dt));\n",
    "    w=pd.DataFrame(w);\n",
    "    w=w.cumprod();\n",
    "    w=w*S0\n",
    "    if call:\n",
    "        se = np.exp(-r*T)*(np.where(w.tail(1)>K, 1, 0)).std()/np.sqrt(Np)    \n",
    "        binary_price = (np.where(w.tail(1)>K, 1, 0)).mean(axis=1)*np.exp(-r*T)\n",
    "    else:\n",
    "        se = np.exp(-r*T)*(np.where(w.tail(1)<K, 1, 0)).std()/np.sqrt(Np)    \n",
    "        binary_price = (np.where(w.tail(1)<K, 1, 0)).mean(axis=1)*np.exp(-r*T)\n",
    "    return binary_price[0].round(4),se.round(4)"
   ]
  }
 ],
 "metadata": {
  "kernelspec": {
   "display_name": "Python 3",
   "language": "python",
   "name": "python3"
  },
  "language_info": {
   "codemirror_mode": {
    "name": "ipython",
    "version": 3
   },
   "file_extension": ".py",
   "mimetype": "text/x-python",
   "name": "python",
   "nbconvert_exporter": "python",
   "pygments_lexer": "ipython3",
   "version": "3.7.0"
  }
 },
 "nbformat": 4,
 "nbformat_minor": 2
}
