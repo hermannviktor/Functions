{
 "cells": [
  {
   "cell_type": "code",
   "execution_count": null,
   "metadata": {
    "collapsed": true
   },
   "outputs": [],
   "source": [
    "# Method 1\n",
    "def max_dd(input_df):\n",
    "    '''\n",
    "    :param input_df: please include the column in input_df like df['col']\n",
    "    :return: maximum_df\n",
    "    '''\n",
    "    import pandas as pd\n",
    "    max_d = (1 - (1+perf_df['PM1']/100).cumprod() / pd.expanding_max((1+perf_df['PM1']/100).cumprod())).max()\n",
    "    \n",
    "    return max_d"
   ]
  },
  {
   "cell_type": "code",
   "execution_count": null,
   "metadata": {},
   "outputs": [],
   "source": [
    "# Method 2\n",
    "def max_dd(input_df, colnum):\n",
    "    MDD1= 0\n",
    "    P1 = 1\n",
    "    HWM1 = 1\n",
    "    Portfolio1=[]\n",
    "    for x in range(1,len(input_df)):\n",
    "        P1=P1*(1+(input_df.iloc[x-1,colnum]/100))\n",
    "        Portfolio1.append(P1)\n",
    "        if P1 > HWM1:\n",
    "            HWM1=P1 \n",
    "        DD1=(HWM1-P1)/HWM1\n",
    "        if DD1 > MDD1:\n",
    "            MDD1=DD1\n",
    "    return MDD1"
   ]
  }
 ],
 "metadata": {
  "kernelspec": {
   "display_name": "Python 2",
   "language": "python",
   "name": "python2"
  },
  "language_info": {
   "codemirror_mode": {
    "name": "ipython",
    "version": 2
   },
   "file_extension": ".py",
   "mimetype": "text/x-python",
   "name": "python",
   "nbconvert_exporter": "python",
   "pygments_lexer": "ipython2",
   "version": "2.7.6"
  }
 },
 "nbformat": 4,
 "nbformat_minor": 0
}
