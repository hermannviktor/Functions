{
 "cells": [
  {
   "cell_type": "code",
   "execution_count": 1,
   "metadata": {},
   "outputs": [],
   "source": [
    "import pandas as pd\n",
    "\n",
    "def ohlcv(input_df,group_col, p_colname,v_colname):\n",
    "    \"\"\"\n",
    "    input_df: data frame that contains all the necessary information\n",
    "    group_col: column by which to group by\n",
    "    p_colname: name of the column to compute ohlc\n",
    "    v_colname: name of the column to compute v\n",
    "    \"\"\"\n",
    "    open_p = input_df.groupby(input_df[group_col]).first()[p_colname]\n",
    "    high_p = input_df.groupby(input_df[group_col]).max()[p_colname]\n",
    "    low_p = input_df.groupby(input_df[group_col]).min()[p_colname]\n",
    "    close_p = input_df.groupby(input_df[group_col]).last()[p_colname]\n",
    "    vol_p = input_df.groupby(input_df[group_col]).sum()[v_colname]\n",
    "    show_df = pd.concat([open_p,high_p,low_p,close_p,vol_p],axis = 1)\n",
    "    show_df.columns = ['open','high','low','close','volume']\n",
    "    return show_df"
   ]
  }
 ],
 "metadata": {
  "kernelspec": {
   "display_name": "Python [conda env:MIT]",
   "language": "python",
   "name": "conda-env-MIT-py"
  },
  "language_info": {
   "codemirror_mode": {
    "name": "ipython",
    "version": 3
   },
   "file_extension": ".py",
   "mimetype": "text/x-python",
   "name": "python",
   "nbconvert_exporter": "python",
   "pygments_lexer": "ipython3",
   "version": "3.6.7"
  }
 },
 "nbformat": 4,
 "nbformat_minor": 2
}
