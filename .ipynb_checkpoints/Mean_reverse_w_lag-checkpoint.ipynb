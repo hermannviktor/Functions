{
 "cells": [
  {
   "cell_type": "code",
   "execution_count": null,
   "metadata": {},
   "outputs": [],
   "source": [
    "def mean_reverse(df, lag = 1, long_short_market = False, stock_outliers = False):\n",
    "    # Transform data from long to wide format and change returns from log to regular\n",
    "    r = df.pivot(index = 'd', columns = 'id', values = 'r')\n",
    "    R = r.apply(lambda x: np.exp(x) - 1)\n",
    "    \n",
    "    # Calculate weights for dollar-neutral portfolio\n",
    "    def weights_no_lag(day): \n",
    "        day_d = day - day.mean()\n",
    "        c = -1 / (day_d.abs().sum()/2)\n",
    "        return c * day_d\n",
    "    \n",
    "    # Assign weights for given lag\n",
    "    w = R.apply(weights_no_lag, axis=1).shift(lag)\n",
    "    w_long = pd.melt(w.reset_index(), id_vars=['d'], value_name='w')\n",
    "    w_long['k'] = lag\n",
    "    \n",
    "    # Calculate returns of portfolio\n",
    "    P_r = (w * R).sum(axis=1, skipna=False)\n",
    "    \n",
    "    # Calculate characteristics of the strategy\n",
    "    mean_r = P_r.mean() * 252\n",
    "    volatility = P_r.std() * math.sqrt(252)\n",
    "    sharpe = mean_r / volatility\n",
    "    \n",
    "    # If we want extra information (performance of long, short and market for Q1), \n",
    "    # we will make additional operations:\n",
    "    if long_short_market == True:\n",
    "        L_r = (w[w > 0] * R).sum(axis=1)\n",
    "        S_r = (w[w < 0] * R).sum(axis=1)\n",
    "        M_r = R.apply(np.mean, axis=1)\n",
    "        \n",
    "        return [mean_r, volatility, sharpe], w_long, P_r, L_r, S_r, M_r\n",
    "    \n",
    "    elif stock_outliers == True:\n",
    "        stock_returns = (w * R).sum(axis=0, skipna=True) \n",
    "        return [mean_r, volatility, sharpe], w_long, P_r, stock_returns\n",
    "    \n",
    "    else:\n",
    "        return [mean_r, volatility, sharpe], w_long, P_r"
   ]
  }
 ],
 "metadata": {
  "kernelspec": {
   "display_name": "Python 3",
   "language": "python",
   "name": "python3"
  },
  "language_info": {
   "codemirror_mode": {
    "name": "ipython",
    "version": 3
   },
   "file_extension": ".py",
   "mimetype": "text/x-python",
   "name": "python",
   "nbconvert_exporter": "python",
   "pygments_lexer": "ipython3",
   "version": "3.7.0"
  }
 },
 "nbformat": 4,
 "nbformat_minor": 2
}
