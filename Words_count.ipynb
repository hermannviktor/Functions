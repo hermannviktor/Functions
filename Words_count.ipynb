{
 "cells": [
  {
   "cell_type": "code",
   "execution_count": null,
   "metadata": {},
   "outputs": [],
   "source": [
    "def words_count(words, output_df):\n",
    "    \"\"\"\n",
    "    words should be a list of words that is in the text\n",
    "    \"\"\"\n",
    "    unique_words = list(set(words))\n",
    "    output_df = np.zeros(len(unique_words), dtype=np.int64)\n",
    "    for word in words:\n",
    "        index = unique_words.index(word) # at this step you create a number from the word\n",
    "        output_df[index] += 1\n",
    "    return output_df"
   ]
  }
 ],
 "metadata": {
  "kernelspec": {
   "display_name": "Python [conda env:MIT]",
   "language": "python",
   "name": "conda-env-MIT-py"
  },
  "language_info": {
   "codemirror_mode": {
    "name": "ipython",
    "version": 3
   },
   "file_extension": ".py",
   "mimetype": "text/x-python",
   "name": "python",
   "nbconvert_exporter": "python",
   "pygments_lexer": "ipython3",
   "version": "3.6.7"
  }
 },
 "nbformat": 4,
 "nbformat_minor": 2
}
