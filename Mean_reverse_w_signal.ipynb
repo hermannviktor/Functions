{
 "cells": [
  {
   "cell_type": "code",
   "execution_count": null,
   "metadata": {},
   "outputs": [],
   "source": [
    "def trace_mean_reverse(df, lag = 1, long_short_market = False, stock_outliers = False):\n",
    "    r = df.pivot(index = 'd', columns = 'id', values = 'r')\n",
    "    R = r.apply(lambda x: np.exp(x) - 1)\n",
    "    \n",
    "    def delta_mean(id_R):\n",
    "        id_w_nonadj = (id_R - id_R.rolling(window=63, min_periods=10).mean()) / id_R.rolling(window=63, min_periods=10).std()\n",
    "        return id_w_nonadj\n",
    "    \n",
    "    w_non_adj = R.apply(delta_mean)\n",
    "    \n",
    "    def weights_no_lag(day_R): \n",
    "        day_dR = day_R - day_R.mean()\n",
    "        c = -1 / (day_dR.abs().sum()/2)\n",
    "        return c * day_dR\n",
    "    \n",
    "    w = w_non_adj.apply(weights_no_lag, axis=1).shift(lag)\n",
    "    w_long = pd.melt(w.reset_index(), id_vars=['d'], value_name='w')\n",
    "    w_long['k'] = lag\n",
    "    \n",
    "    P_r = (w * R).sum(axis=1, skipna=False)\n",
    "    mean_r = P_r.mean() * 252\n",
    "    volatility = P_r.std() * math.sqrt(252)\n",
    "    sharpe = mean_r / volatility\n",
    "    \n",
    "    # If we want extra information (performance of long, short and market for Q1), \n",
    "    # we will make additional operations:\n",
    "    if long_short_market == True:\n",
    "        L_r = (w[w > 0] * R).sum(axis=1)\n",
    "        S_r = (w[w < 0] * R).sum(axis=1)\n",
    "        M_r = R.apply(np.mean, axis=1)\n",
    "        \n",
    "        return [mean_r, volatility, sharpe], w_long, P_r, L_r, S_r, M_r\n",
    "    \n",
    "    elif stock_outliers == True:\n",
    "        stock_returns = (w * R).sum(axis=0, skipna=True) \n",
    "        return [mean_r, volatility, sharpe], w_long, P_r, stock_returns\n",
    "    \n",
    "    else:\n",
    "        return [mean_r, volatility, sharpe], w_long, P_r"
   ]
  }
 ],
 "metadata": {
  "kernelspec": {
   "display_name": "Python 3",
   "language": "python",
   "name": "python3"
  },
  "language_info": {
   "codemirror_mode": {
    "name": "ipython",
    "version": 3
   },
   "file_extension": ".py",
   "mimetype": "text/x-python",
   "name": "python",
   "nbconvert_exporter": "python",
   "pygments_lexer": "ipython3",
   "version": "3.7.0"
  }
 },
 "nbformat": 4,
 "nbformat_minor": 2
}
